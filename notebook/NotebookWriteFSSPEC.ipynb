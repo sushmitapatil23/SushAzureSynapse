{
  "nbformat": 4,
  "nbformat_minor": 2,
  "cells": [
    {
      "cell_type": "code",
      "execution_count": 16,
      "outputs": [],
      "metadata": {},
      "source": [
        "import fsspec\n",
        "import pandas\n",
        "\n",
        "adls_account_name = 'azuresynapsesushadlsgen2'\n",
        "adls_account_key = 'kSfTLRaUy6CSNVEyDeViq0STEzBKJ1HEFRLDRNwnUSHgahT1zi7lSbpe+eygxmfWJOKsctqk1i0h+AStR0qNjg=='\n",
        "\n",
        "data = pandas.DataFrame({'id':[1,2,3,4], 'name':['Maheer','Wafa','sush','pandit']})\n",
        "\n",
        "fsspec_object = fsspec.open('abfss://azuresynapsesushcontainer/synapsedemo/EMP_WriteFSSPEC.csv',account_name = adls_account_name,account_key= adls_account_key, mode= 'wt')\n",
        "\n",
        "with fsspec_object.open() as f:\n",
        "    data.to_csv(f)\n",
        ""
      ]
    }
  ],
  "metadata": {
    "description": null,
    "save_output": true,
    "language_info": {
      "name": "python"
    }
  }
}