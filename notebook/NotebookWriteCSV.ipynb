{
  "nbformat": 4,
  "nbformat_minor": 2,
  "cells": [
    {
      "cell_type": "code",
      "execution_count": 5,
      "outputs": [],
      "metadata": {},
      "source": [
        "new_rows= [('Maheer','Male',5000),('Wafa','Male',3000)]\n",
        "demo_df= spark.createDataFrame(new_rows,['Name','Gender','Salary'])\n",
        "demo_df.show()\n",
        "demo_df.write.csv('abfss://azuresynapsesushcontainer@azuresynapsesushadlsgen2.dfs.core.windows.net/synapsedemo1/', mode='overwrite')\n",
        "demo_df.createOrReplaceTempView(\"DemoTempTable\")"
      ]
    },
    {
      "cell_type": "code",
      "execution_count": 3,
      "outputs": [],
      "metadata": {
        "run_control": {
          "frozen": true
        },
        "editable": false
      },
      "source": [
        ""
      ]
    },
    {
      "cell_type": "code",
      "execution_count": 6,
      "outputs": [],
      "metadata": {
        "microsoft": {
          "language": "sparksql"
        },
        "jupyter": {
          "source_hidden": false,
          "outputs_hidden": false
        },
        "nteract": {
          "transient": {
            "deleting": false
          }
        },
        "collapsed": false
      },
      "source": [
        "%%sql\n",
        "select * from DemoTempTable"
      ]
    }
  ],
  "metadata": {
    "description": null,
    "save_output": true,
    "language_info": {
      "name": "python"
    }
  }
}