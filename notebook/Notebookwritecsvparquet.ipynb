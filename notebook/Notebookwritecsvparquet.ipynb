{
  "nbformat": 4,
  "nbformat_minor": 2,
  "cells": [
    {
      "cell_type": "code",
      "execution_count": null,
      "outputs": [],
      "metadata": {
        "microsoft": {
          "language": "python"
        }
      },
      "source": [
        "%%pyspark\n",
        "df = spark.sql(\"select * from nyctaxi.PassengerCountStats\")\n",
        "df.write.mode(\"overwrite\").csv(\"/NYCTaxi/csvfile\")\n",
        "df.write.mode(\"overwrite\").parquet(\"/NYCTaxi/parquetfile\")"
      ]
    }
  ],
  "metadata": {
    "description": null,
    "save_output": true,
    "language_info": {
      "name": "python"
    }
  }
}